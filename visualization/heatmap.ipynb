{
 "cells": [
  {
   "cell_type": "markdown",
   "id": "7e5ad4df",
   "metadata": {},
   "source": [
    "# Geospatial Heatmap Data Visualization\n",
    "\n",
    "Configure paths and column names:"
   ]
  },
  {
   "cell_type": "code",
   "execution_count": 1,
   "id": "2b2f7755",
   "metadata": {},
   "outputs": [],
   "source": [
    "import os\n",
    "\n",
    "# paths\n",
    "NFHS_DATA_PATH          = os.path.abspath(os.path.join(\"..\", \"subphenotype\", \"data\", \"clean.csv\"))\n",
    "SUBPHENOTYPES_DATA_PATH = os.path.abspath(os.path.join(\"..\", \"subphenotype\", \"out\", \"subphenotypes.csv\"))\n",
    "GENETICS_DATA_PATH      = os.path.abspath(os.path.join(\"..\", \"genetic\", \"data\", \"state_scores.csv\"))\n",
    "GEOJSON_PATH            = os.path.abspath(os.path.join(\"..\", \"subphenotype\", \"data\", \"assets\", \"districts.geojson\"))\n",
    "\n",
    "# column names\n",
    "STATE_COL          = \"State/UT\"\n",
    "DISTRICT_COL       = \"District\"\n",
    "PRIORITY_SCORE_COL = \"GLP1_Focused_Priority_Score\"\n",
    "GENETIC_RISK_COL   = \"Priority Score\"\n",
    "AFFLUENCE_COL      = \"Population in Highest Wealth Quintile (%)\"\n",
    "INSURANCE_COL      = \"Households with Health Insurance / Financing Scheme Coverage (%)\"\n",
    "\n",
    "# geojson field names\n",
    "DISTRICT_GJ  = \"district\"\n",
    "STATE_GJ     = \"st_nm\"\n",
    "\n",
    "# output path\n",
    "HTML_PATH = os.path.abspath(os.path.join(\".\", \"out\", \"map.html\"))"
   ]
  },
  {
   "cell_type": "markdown",
   "id": "04b32ec1",
   "metadata": {},
   "source": [
    "Construct district name alias mapping:"
   ]
  },
  {
   "cell_type": "code",
   "execution_count": 2,
   "id": "2cfb6d80",
   "metadata": {},
   "outputs": [],
   "source": [
    "# alias map to reconcile common spelling variants between CSV and GeoJSON\n",
    "ALIASES = {\n",
    "    \"aizawl\":  \"aizawal\",\n",
    "    \"belgaum\": \"belagavi\",\n",
    "    \"aravali\": \"aravalli\"\n",
    "}"
   ]
  },
  {
   "cell_type": "markdown",
   "id": "0b1492a2",
   "metadata": {},
   "source": [
    "Construct CSV geo-identifier $\\to$ priority score lookup:"
   ]
  },
  {
   "cell_type": "code",
   "execution_count": 3,
   "id": "454da5b8",
   "metadata": {},
   "outputs": [],
   "source": [
    "import pandas as pd\n",
    "\n",
    "\n",
    "def norm(s:str) -> str:\n",
    "    if s is None: return \"\"\n",
    "    \n",
    "    return str(s).strip().lower()\n",
    "\n",
    "\n",
    "df_subphenotype = pd.read_csv(SUBPHENOTYPES_DATA_PATH)\n",
    "\n",
    "# build normalized matching keys\n",
    "df_subphenotype[\"district_key\"] = df_subphenotype[DISTRICT_COL].map(norm).map(lambda x: ALIASES.get(x, x))\n",
    "df_subphenotype[\"state_key\"]    = df_subphenotype[STATE_COL].map(norm)\n",
    "\n",
    "# build a lookup from (district_key, state_key) -> score\n",
    "subphenotype_lookup = { (r[\"district_key\"], r[\"state_key\"]): r[PRIORITY_SCORE_COL] for _, r in df_subphenotype.dropna(subset=[PRIORITY_SCORE_COL]).iterrows() }"
   ]
  },
  {
   "cell_type": "markdown",
   "id": "d65172c8",
   "metadata": {},
   "source": [
    "Construct genetic data lookup:"
   ]
  },
  {
   "cell_type": "code",
   "execution_count": 4,
   "id": "7f4dda7a",
   "metadata": {},
   "outputs": [],
   "source": [
    "df_genetic = pd.read_csv(GENETICS_DATA_PATH)\n",
    "\n",
    "# build normalized matching keys\n",
    "df_genetic[\"state_key\"] = df_genetic[STATE_COL].map(norm)\n",
    "\n",
    "# build a lookup from (district_key, state_key) -> score\n",
    "genetic_lookup = { r[\"state_key\"]: r[GENETIC_RISK_COL] for _, r in df_genetic.dropna(subset=[GENETIC_RISK_COL]).iterrows() }"
   ]
  },
  {
   "cell_type": "markdown",
   "id": "8a37bce7",
   "metadata": {},
   "source": [
    "Construct affluence/adoption data lookup:"
   ]
  },
  {
   "cell_type": "code",
   "execution_count": 5,
   "id": "ffd7fd74",
   "metadata": {},
   "outputs": [],
   "source": [
    "import numpy as np\n",
    "\n",
    "\n",
    "def z_norm(series:pd.Series) -> pd.Series:\n",
    "\t\"\"\"Mean-impute and z-score. If std==0 or NaN, return zeros.\"\"\"\n",
    "\t\n",
    "\ts  = series.copy()\n",
    "\tmu = s.mean(skipna=True)\n",
    "\ts  = s.fillna(mu)\n",
    "\t\n",
    "\tstd = s.std(skipna=True, ddof=0)\n",
    "\t\n",
    "\tif pd.isna(std) or std == 0: return pd.Series(np.zeros(len(s)), index=s.index)\n",
    "\t\n",
    "\treturn (s - mu) / std\n",
    "\n",
    "\n",
    "df_adoption = pd.read_csv(NFHS_DATA_PATH)[[STATE_COL, DISTRICT_COL, AFFLUENCE_COL, INSURANCE_COL]]\n",
    "\n",
    "affluence_norm = z_norm(df_adoption[AFFLUENCE_COL])\n",
    "insurance_norm = z_norm(df_adoption[INSURANCE_COL])\n",
    "\n",
    "df_adoption[\"Adoption Score\"] = 0.7*affluence_norm + 0.3*insurance_norm\n",
    "\n",
    "# build normalized matching keys\n",
    "df_adoption[\"district_key\"] = df_adoption[DISTRICT_COL].map(norm).map(lambda x: ALIASES.get(x, x))\n",
    "df_adoption[\"state_key\"]    = df_adoption[STATE_COL].map(norm)\n",
    "\n",
    "# build a lookup from (district_key, state_key) -> score\n",
    "insurance_lookup = { (r[\"district_key\"], r[\"state_key\"]): r[INSURANCE_COL] for _, r in df_adoption.dropna(subset=[INSURANCE_COL]).iterrows() }\n",
    "adoption_lookup  = { (r[\"district_key\"], r[\"state_key\"]): r[\"Adoption Score\"] for _, r in df_adoption.dropna(subset=[\"Adoption Score\"]).iterrows() }"
   ]
  },
  {
   "cell_type": "markdown",
   "id": "6d3c3ed8",
   "metadata": {},
   "source": [
    "Match subphenotype-based priority, genetic risk, and adoption scores from CSV, and add to GeoJSON features:"
   ]
  },
  {
   "cell_type": "code",
   "execution_count": 6,
   "id": "aafdd555",
   "metadata": {},
   "outputs": [],
   "source": [
    "import json\n",
    "\n",
    "# load .geojson\n",
    "with open(GEOJSON_PATH, \"r\", encoding=\"utf-8\") as f:\n",
    "    geo = json.load(f)\n",
    "\n",
    "for feat in geo[\"features\"]:\n",
    "    props = feat.get(\"properties\", {})\n",
    "    \n",
    "    d = norm(props.get(DISTRICT_GJ, \"\"))\n",
    "    s = norm(props.get(STATE_GJ, \"\"))\n",
    "\n",
    "    subphenotype = subphenotype_lookup.get((d, s))\n",
    "    genetic      = genetic_lookup.get(s)\n",
    "    adoption     = adoption_lookup.get((d, s))\n",
    "    insurance    = insurance_lookup.get((d, s))\n",
    "\n",
    "    props[\"glp1_score\"]      = float(subphenotype) if subphenotype else None\n",
    "    props[\"genetic_risk\"]    = float(genetic) if genetic else None\n",
    "    props[\"adoption_score\"]  = float(adoption) if adoption else None\n",
    "    props[\"insurance_score\"] = float(insurance) if insurance else None\n",
    "    \n",
    "    feat[\"properties\"] = props"
   ]
  },
  {
   "cell_type": "markdown",
   "id": "2966b7f4",
   "metadata": {},
   "source": [
    "Draw heatmap:"
   ]
  },
  {
   "cell_type": "code",
   "execution_count": 7,
   "id": "660811ac",
   "metadata": {},
   "outputs": [
    {
     "data": {
      "text/plain": [
       "<folium.map.LayerControl at 0x7fee12a46900>"
      ]
     },
     "execution_count": 7,
     "metadata": {},
     "output_type": "execute_result"
    }
   ],
   "source": [
    "import folium\n",
    "from folium.features import GeoJsonTooltip\n",
    "from branca.colormap import linear\n",
    "import numpy as np\n",
    "\n",
    "DEFAULT_STYLE = {\"fillOpacity\": 0, \"weight\": 0.2, \"fillColor\": \"#cccccc\", \"color\": \"#555555\"}\n",
    "\n",
    "\n",
    "def minmax_from_geo(geo, key):\n",
    "    vals = [\n",
    "        float(f[\"properties\"].get(key))\n",
    "        for f in geo[\"features\"]\n",
    "        if f[\"properties\"].get(key) is not None\n",
    "        and not (isinstance(f[\"properties\"].get(key), float) and np.isnan(f[\"properties\"].get(key)))\n",
    "    ]\n",
    "    \n",
    "    return (min(vals), max(vals)) if vals else (0.0, 1.0)\n",
    "\n",
    "\n",
    "def feature_style(feature, *, cmap, fill_opacity=0.5, weight=0.3, border=\"#333\"):\n",
    "    val = feature[\"properties\"].get(\"__value__\")\n",
    "\n",
    "    if val is None or (isinstance(val, float) and np.isnan(val)): return DEFAULT_STYLE\n",
    "    return {\"fillOpacity\": fill_opacity, \"weight\": weight, \"fillColor\": cmap(float(val)), \"color\": border}\n",
    "\n",
    "\n",
    "layers = [\n",
    "    (\"GLP1 Priority by District\",          \"glp1_score\",     \"GLP1 Score\"),\n",
    "    (\"Genetic Risk by State\",              \"genetic_risk\",   \"Genetic Risk\"),\n",
    "    (\"Adoption Priority\",                  \"adoption_score\", \"Adoption Score\"),\n",
    "    (\"Household with Insurance Coverage\",  \"insurance_score\", \"Insurance Score\"),\n",
    "]\n",
    "\n",
    "m = folium.Map(location=[22.9734, 78.6569], zoom_start=5, tiles=\"cartodbpositron\")\n",
    "\n",
    "for name, key, alias in layers:\n",
    "    vmin, vmax = minmax_from_geo(geo, key)\n",
    "    cmap = linear.YlOrRd_09.scale(vmin, vmax); cmap.caption = alias\n",
    "\n",
    "    gcopy = {\"type\": geo[\"type\"], \"features\": []}\n",
    "\n",
    "    for f in geo[\"features\"]:\n",
    "        pf = {**f[\"properties\"], \"__value__\": f[\"properties\"].get(key)}\n",
    "        gcopy[\"features\"].append({**f, \"properties\": pf})\n",
    "\n",
    "    folium.GeoJson(\n",
    "        data=gcopy,\n",
    "        name=name,\n",
    "        style_function=lambda feat, cm=cmap: feature_style(feat, cmap=cm, fill_opacity=0.5, weight=0.3),\n",
    "        tooltip=GeoJsonTooltip(fields=[DISTRICT_GJ, STATE_GJ, key], aliases=[\"District\", \"State/UT\", alias], sticky=True, labels=True),\n",
    "    ).add_to(m)\n",
    "\n",
    "    cmap.add_to(m)\n",
    "\n",
    "folium.LayerControl().add_to(m)"
   ]
  },
  {
   "cell_type": "markdown",
   "id": "79724864",
   "metadata": {},
   "source": [
    "Export heatmap to interactive HTML:"
   ]
  },
  {
   "cell_type": "code",
   "execution_count": 8,
   "id": "be933400",
   "metadata": {},
   "outputs": [
    {
     "name": "stdout",
     "output_type": "stream",
     "text": [
      "Saved: /home/aarush/Projects/NN_Hackathon/visualization/out/heatmap.html\n"
     ]
    }
   ],
   "source": [
    "OUT_DIR  = os.path.abspath(os.path.join(\".\", \"out\"))\n",
    "OUT_PATH = os.path.join(OUT_DIR, \"heatmap.html\")\n",
    "\n",
    "# create if doesn't exist\n",
    "os.makedirs(OUT_DIR, exist_ok=True)\n",
    "\n",
    "m.save(OUT_PATH)\n",
    "\n",
    "print(f\"Saved: {OUT_PATH}\")"
   ]
  }
 ],
 "metadata": {
  "kernelspec": {
   "display_name": ".venv",
   "language": "python",
   "name": "python3"
  },
  "language_info": {
   "codemirror_mode": {
    "name": "ipython",
    "version": 3
   },
   "file_extension": ".py",
   "mimetype": "text/x-python",
   "name": "python",
   "nbconvert_exporter": "python",
   "pygments_lexer": "ipython3",
   "version": "3.13.7"
  }
 },
 "nbformat": 4,
 "nbformat_minor": 5
}
