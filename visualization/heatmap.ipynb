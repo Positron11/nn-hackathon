{
 "cells": [
  {
   "cell_type": "markdown",
   "id": "7e5ad4df",
   "metadata": {},
   "source": [
    "# Geospatial Heatmap Data Visualization\n",
    "\n",
    "Configure paths and column names:"
   ]
  },
  {
   "cell_type": "code",
   "execution_count": 43,
   "id": "2b2f7755",
   "metadata": {},
   "outputs": [],
   "source": [
    "import os\n",
    "\n",
    "# paths\n",
    "SUBPHENOTYPES_DATA_PATH = os.path.abspath(os.path.join(\"..\", \"subphenotype\", \"out\", \"subphenotypes.csv\"))\n",
    "GENETICS_DATA_PATH      = os.path.abspath(os.path.join(\"..\", \"genetic\", \"data\", \"state_scores.csv\"))\n",
    "GEOJSON_PATH            = os.path.abspath(os.path.join(\"..\", \"subphenotype\", \"data\", \"assets\", \"districts.geojson\"))\n",
    "\n",
    "# column names\n",
    "PRIORITY_SCORE_COL = \"GLP1_Focused_Priority_Score\"\n",
    "GENETIC_RISK_COL   = \"Weighted_Priority_Score\"\n",
    "DISTRICT_COL       = \"District\"\n",
    "STATE_COL          = \"State/UT\"\n",
    "\n",
    "# geojson field names\n",
    "DISTRICT_GJ  = \"district\"\n",
    "STATE_GJ     = \"st_nm\"\n",
    "\n",
    "# output path\n",
    "HTML_PATH    = os.path.abspath(os.path.join(\".\", \"out\", \"map.html\"))"
   ]
  },
  {
   "cell_type": "markdown",
   "id": "04b32ec1",
   "metadata": {},
   "source": [
    "Construct district name alias mapping:"
   ]
  },
  {
   "cell_type": "code",
   "execution_count": 44,
   "id": "2cfb6d80",
   "metadata": {},
   "outputs": [],
   "source": [
    "# alias map to reconcile common spelling variants between CSV and GeoJSON\n",
    "ALIASES = {\n",
    "    \"aizawl\":  \"aizawal\",\n",
    "    \"belgaum\": \"belagavi\",\n",
    "    \"aravali\": \"aravalli\"\n",
    "}"
   ]
  },
  {
   "cell_type": "markdown",
   "id": "0b1492a2",
   "metadata": {},
   "source": [
    "Construct CSV geo-identifier $\\to$ priority score lookup:"
   ]
  },
  {
   "cell_type": "code",
   "execution_count": 45,
   "id": "454da5b8",
   "metadata": {},
   "outputs": [],
   "source": [
    "import pandas as pd\n",
    "\n",
    "\n",
    "def norm(s:str) -> str:\n",
    "    if s is None: return \"\"\n",
    "    \n",
    "    return str(s).strip().lower()\n",
    "\n",
    "\n",
    "df_subphenotype = pd.read_csv(SUBPHENOTYPES_DATA_PATH)\n",
    "\n",
    "# build normalized matching keys\n",
    "df_subphenotype[\"district_key\"] = df_subphenotype[DISTRICT_COL].map(norm).map(lambda x: ALIASES.get(x, x))\n",
    "df_subphenotype[\"state_key\"]    = df_subphenotype[STATE_COL].map(norm)\n",
    "\n",
    "# build a lookup from (district_key, state_key) -> score\n",
    "subphenotype_lookup = { (r[\"district_key\"], r[\"state_key\"]): r[PRIORITY_SCORE_COL] for _, r in df_subphenotype.dropna(subset=[PRIORITY_SCORE_COL]).iterrows() }"
   ]
  },
  {
   "cell_type": "markdown",
   "id": "d65172c8",
   "metadata": {},
   "source": [
    "Construct genetic data lookup:"
   ]
  },
  {
   "cell_type": "code",
   "execution_count": 46,
   "id": "7f4dda7a",
   "metadata": {},
   "outputs": [],
   "source": [
    "df_genetic = pd.read_csv(GENETICS_DATA_PATH)\n",
    "\n",
    "# build normalized matching keys\n",
    "df_genetic[\"state_key\"] = df_genetic[STATE_COL].map(norm)\n",
    "\n",
    "# build a lookup from (district_key, state_key) -> score\n",
    "gneetic_lookup = { r[\"state_key\"]: r[GENETIC_RISK_COL] for _, r in df_genetic.dropna(subset=[GENETIC_RISK_COL]).iterrows() }"
   ]
  },
  {
   "cell_type": "markdown",
   "id": "6d3c3ed8",
   "metadata": {},
   "source": [
    "Match subphenotype-based priority and genetic risk scores from CSV, and add to GeoJSON features:"
   ]
  },
  {
   "cell_type": "code",
   "execution_count": 47,
   "id": "aafdd555",
   "metadata": {},
   "outputs": [],
   "source": [
    "import json\n",
    "\n",
    "# load .geojson\n",
    "with open(GEOJSON_PATH, \"r\", encoding=\"utf-8\") as f:\n",
    "    geo = json.load(f)\n",
    "\n",
    "for feat in geo[\"features\"]:\n",
    "    props = feat.get(\"properties\", {})\n",
    "    \n",
    "    d = norm(props.get(DISTRICT_GJ, \"\"))\n",
    "    s = norm(props.get(STATE_GJ, \"\"))\n",
    "\n",
    "    # match score and risk\n",
    "    score = subphenotype_lookup.get((d, s))\n",
    "    risk  = gneetic_lookup.get(s)\n",
    "    \n",
    "    props[\"glp1_score\"]   = float(score) if score else None\n",
    "    props[\"genetic_risk\"] = float(risk) if risk else None\n",
    "    \n",
    "    feat[\"properties\"] = props"
   ]
  },
  {
   "cell_type": "markdown",
   "id": "2966b7f4",
   "metadata": {},
   "source": [
    "Draw heatmap:"
   ]
  },
  {
   "cell_type": "code",
   "execution_count": 48,
   "id": "660811ac",
   "metadata": {},
   "outputs": [
    {
     "data": {
      "text/plain": [
       "<folium.map.LayerControl at 0x7ff8660202b0>"
      ]
     },
     "execution_count": 48,
     "metadata": {},
     "output_type": "execute_result"
    }
   ],
   "source": [
    "import folium\n",
    "from folium.features import GeoJsonTooltip\n",
    "from branca.colormap import linear\n",
    "import numpy as np\n",
    "\n",
    "values     = df_subphenotype[PRIORITY_SCORE_COL].dropna()\n",
    "VMIN, VMAX = float(values.min()), float(values.max())\n",
    "\n",
    "risk_values     = df_genetic[GENETIC_RISK_COL].dropna()\n",
    "RISK_MIN, RISK_MAX = float(risk_values.min()), float(risk_values.max())\n",
    "\n",
    "# color map palette for GLP1 priority scoring\n",
    "priority_cmap         = linear.YlOrRd_09.scale(VMIN, VMAX)\n",
    "priority_cmap.caption = \"GLP1-Focused Priority Score\"\n",
    "\n",
    "# color map palette for genetic risk scoring\n",
    "risk_cmap         = linear.YlOrRd_09.scale(RISK_MIN, RISK_MAX)\n",
    "risk_cmap.caption = \"Genetic Risk Score\"\n",
    "\n",
    "\n",
    "def style_priority(feature):\n",
    "    val = feature[\"properties\"].get(\"glp1_score\")\n",
    "    \n",
    "    if val is None or (isinstance(val, float) and np.isnan(val)):\n",
    "        return { \"fillOpacity\": 0.1, \"weight\": 0.2, \"fillColor\": \"#cccccc\", \"color\": \"#555555\" }\n",
    "    \n",
    "    return {\n",
    "        \"fillOpacity\": 0.6,\n",
    "        \"weight\":      0.25,\n",
    "        \"fillColor\":   priority_cmap(float(val)),\n",
    "        \"color\":       \"#333333\",\n",
    "    }\n",
    "\n",
    "\n",
    "def style_risk(feature):\n",
    "    val = feature[\"properties\"].get(\"genetic_risk\")\n",
    "    \n",
    "    if val is None or (isinstance(val, float) and np.isnan(val)):\n",
    "        return { \"fillOpacity\": 0.1, \"weight\": 0.2, \"fillColor\": \"#cccccc\", \"color\": \"#555555\" }\n",
    "    \n",
    "    return {\n",
    "        \"fillOpacity\": 0.35,\n",
    "        \"weight\":      0.45,\n",
    "        \"fillColor\":   risk_cmap(float(val)),\n",
    "        \"color\":       \"#333333\",\n",
    "    }\n",
    "\n",
    "\n",
    "# build map\n",
    "m = folium.Map(location=[22.9734, 78.6569], zoom_start=5, tiles=\"cartodbpositron\")\n",
    "\n",
    "folium.GeoJson(\n",
    "    data          =geo,\n",
    "    name          =\"GLP1 Priority by District\",\n",
    "    style_function=style_priority,\n",
    "    \n",
    "    tooltip=GeoJsonTooltip(\n",
    "        fields =[DISTRICT_GJ, STATE_GJ, \"glp1_score\"],\n",
    "        aliases=[\"District\", \"State/UT\", \"GLP1 Score\"],\n",
    "        sticky =True,\n",
    "        labels =True,\n",
    "    ),\n",
    ").add_to(m)\n",
    "\n",
    "folium.GeoJson(\n",
    "    data          =geo,\n",
    "    name          =\"Genetic Risk by State\",\n",
    "    style_function=style_risk,\n",
    "    \n",
    "    tooltip=GeoJsonTooltip(\n",
    "        fields =[DISTRICT_GJ, STATE_GJ, \"genetic_risk\"],\n",
    "        aliases=[\"District\", \"State/UT\", \"Genetic Risk\"],\n",
    "        sticky =True,\n",
    "        labels =True,\n",
    "    ),\n",
    ").add_to(m)\n",
    "\n",
    "# add the legends\n",
    "priority_cmap.add_to(m)\n",
    "risk_cmap.add_to(m)\n",
    "\n",
    "folium.LayerControl().add_to(m)\n",
    "\n"
   ]
  },
  {
   "cell_type": "markdown",
   "id": "79724864",
   "metadata": {},
   "source": [
    "Export heatmap to interactive HTML:"
   ]
  },
  {
   "cell_type": "code",
   "execution_count": 49,
   "id": "be933400",
   "metadata": {},
   "outputs": [
    {
     "name": "stdout",
     "output_type": "stream",
     "text": [
      "Saved: /home/aarush/Projects/NN_Hackathon/visualization/out/heatmap.html\n"
     ]
    }
   ],
   "source": [
    "OUT_DIR  = os.path.abspath(os.path.join(\".\", \"out\"))\n",
    "OUT_PATH = os.path.join(OUT_DIR, \"heatmap.html\")\n",
    "\n",
    "# create if doesn't exist\n",
    "os.makedirs(OUT_DIR, exist_ok=True)\n",
    "\n",
    "m.save(OUT_PATH)\n",
    "\n",
    "print(f\"Saved: {OUT_PATH}\")"
   ]
  }
 ],
 "metadata": {
  "kernelspec": {
   "display_name": ".venv",
   "language": "python",
   "name": "python3"
  },
  "language_info": {
   "codemirror_mode": {
    "name": "ipython",
    "version": 3
   },
   "file_extension": ".py",
   "mimetype": "text/x-python",
   "name": "python",
   "nbconvert_exporter": "python",
   "pygments_lexer": "ipython3",
   "version": "3.13.7"
  }
 },
 "nbformat": 4,
 "nbformat_minor": 5
}
