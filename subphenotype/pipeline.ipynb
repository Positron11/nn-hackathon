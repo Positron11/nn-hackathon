{
 "cells": [
  {
   "cell_type": "markdown",
   "id": "d602ff91",
   "metadata": {},
   "source": [
    "# Processing Pipeline\n",
    "\n",
    "Load primary clean data source:"
   ]
  },
  {
   "cell_type": "code",
   "execution_count": 2,
   "id": "ad7f9ba5",
   "metadata": {},
   "outputs": [],
   "source": [
    "import os\n",
    "import pandas as pd\n",
    "\n",
    "DATA_DIR = os.path.abspath(os.path.join(\".\", \"data\"))\n",
    "IN_PATH  = os.path.join(DATA_DIR, \"clean.csv\")\n",
    "\n",
    "# load clean.csv\n",
    "df_clean = pd.read_csv(IN_PATH)\n",
    "\n",
    "# short col. names\n",
    "COLS = {\n",
    "    \"AGE45\":   \"Population Age 45+ (%)\",\n",
    "    \"OVER_W\":  \"Women Overweight or Obese (%) [BMI>=25.0]\",\n",
    "    \"OVER_M\":  \"Men Overweight or Obese (%) [BMI>=25.0]\",\n",
    "    \"UNDER_W\": \"Women Underweight (%) [BMI<18.5]\",\n",
    "    \"UNDER_M\": \"Men Underweight (%) [BMI<18.5]\",\n",
    "    \"HTN_W\":   \"Women Hypertensive (%) [SBP>=140 mmHg OR DBP>=90mmHg]\",\n",
    "    \"HTN_M\":   \"Men Hypertensive (%) [SBP>=140 mmHg OR DBP>=90mmHg]\",\n",
    "    \"GLU_W\":   \"Women High Glucose [BG>140mg/dl OR medicated]\",\n",
    "    \"GLU_M\":   \"Men High Glucose [BG>140mg/dl OR medicated]\",\n",
    "    \"WAIST_W\": \"Women Substantially Increased Risk of Metabolic Complications (%) [waist>88cm]\",\n",
    "    \"WAIST_M\": \"Men Substantially Increased Risk of Metabolic Complications (%) [waist>102cm]\",\n",
    "}\n",
    "\n",
    "ID_COLS = [\"District\", \"State/UT\"]"
   ]
  },
  {
   "cell_type": "markdown",
   "id": "bbda92bd",
   "metadata": {},
   "source": [
    "Quick completeness check:"
   ]
  },
  {
   "cell_type": "code",
   "execution_count": 3,
   "id": "7b84c371",
   "metadata": {},
   "outputs": [
    {
     "name": "stdout",
     "output_type": "stream",
     "text": [
      "All columns present.\n"
     ]
    }
   ],
   "source": [
    "missing = [c for c in ID_COLS + list(COLS.values()) if c not in df_clean.columns]\n",
    "\n",
    "# data status\n",
    "if missing: raise ValueError(f\"Missing required column(s): {missing}\")\n",
    "else:       print(\"All columns present.\")"
   ]
  },
  {
   "cell_type": "markdown",
   "id": "9a872982",
   "metadata": {},
   "source": [
    "Compute $z$-scores according to $z(x) = \\frac{x - \\mu_x}{\\sigma_x}$ with national distinct distribution:"
   ]
  },
  {
   "cell_type": "code",
   "execution_count": 4,
   "id": "dae91b48",
   "metadata": {},
   "outputs": [],
   "source": [
    "import numpy as np\n",
    "\n",
    "\n",
    "def zscore(series:pd.Series) -> pd.Series:\n",
    "\t\"\"\"Mean-impute and z-score. If std==0 or NaN, return zeros.\"\"\"\n",
    "\t\n",
    "\ts  = series.copy()\n",
    "\tmu = s.mean(skipna=True)\n",
    "\ts  = s.fillna(mu)\n",
    "\t\n",
    "\tstd = s.std(skipna=True, ddof=0)\n",
    "\t\n",
    "\tif pd.isna(std) or std == 0: return pd.Series(np.zeros(len(s)), index=s.index)\n",
    "\t\n",
    "\treturn (s - mu) / std\n",
    "\n",
    "\n",
    "# compute per-district indicator z-scores\n",
    "z = { k: zscore(df_clean[c]) for k, c in COLS.items() }\n",
    "\n",
    "AGE45_z = z[\"AGE45\"]\n",
    "\n",
    "# sex-averaged standardized signal per district\n",
    "OVER_z  = 0.5 * (z[\"OVER_W\"] + z[\"OVER_M\"])\n",
    "UNDER_z = 0.5 * (z[\"UNDER_W\"] + z[\"UNDER_M\"])\n",
    "WAIST_z = 0.5 * (z[\"WAIST_W\"] + z[\"WAIST_M\"])\n",
    "HTN_z   = 0.5 * (z[\"HTN_W\"] + z[\"HTN_M\"])\n",
    "GLU_z   = 0.5 * (z[\"GLU_W\"] + z[\"GLU_M\"])"
   ]
  },
  {
   "cell_type": "markdown",
   "id": "d484242a",
   "metadata": {},
   "source": [
    "Construct derived indices (reflect studies):"
   ]
  },
  {
   "cell_type": "code",
   "execution_count": 5,
   "id": "d0545b1b",
   "metadata": {},
   "outputs": [],
   "source": [
    "IR_index  = 0.45*WAIST_z + 0.35*OVER_z + 0.20*HTN_z\n",
    "DEF_index = 0.50*UNDER_z - 0.25*OVER_z - 0.25*WAIST_z\n",
    "GLY_index = GLU_z\n",
    "AGE_index = AGE45_z"
   ]
  },
  {
   "cell_type": "markdown",
   "id": "7f73c0d4",
   "metadata": {},
   "source": [
    "Compute subtype scoring using linear combinations of indices:"
   ]
  },
  {
   "cell_type": "code",
   "execution_count": 6,
   "id": "d1055069",
   "metadata": {},
   "outputs": [],
   "source": [
    "def softmax_rows(mat:np.ndarray) -> np.ndarray:\n",
    "    \"\"\"Row-wise softmax with numerical stability.\"\"\"\n",
    "    \n",
    "    m    = np.max(mat, axis=1, keepdims=True)\n",
    "    exps = np.exp(mat - m)\n",
    "    \n",
    "    return exps / np.sum(exps, axis=1, keepdims=True)\n",
    "\n",
    "\n",
    "SIDD_raw  = 0.50*GLY_index + 0.30*DEF_index - 0.20*AGE_index\n",
    "SIRD_raw  = 0.60*IR_index + 0.40*GLY_index\n",
    "CIRDD_raw = 0.40*GLY_index + 0.30*IR_index + 0.30*DEF_index\n",
    "MOD_raw   = 0.40*OVER_z - 0.30*IR_index - 0.30*GLY_index\n",
    "MARD_raw  = 0.60*AGE_index - 0.20*GLY_index - 0.10*IR_index - 0.10*OVER_z\n",
    "\n",
    "raw  = np.vstack([SIDD_raw, SIRD_raw, CIRDD_raw, MOD_raw, MARD_raw]).T\n",
    "soft = softmax_rows(raw) * 100"
   ]
  },
  {
   "cell_type": "markdown",
   "id": "f89cca16",
   "metadata": {},
   "source": [
    "Prior (national averages from Indian T2D clustering studies) blending calibration:"
   ]
  },
  {
   "cell_type": "code",
   "execution_count": 7,
   "id": "15ae39b0",
   "metadata": {},
   "outputs": [],
   "source": [
    "from dataclasses import dataclass\n",
    "\n",
    "\n",
    "@dataclass\n",
    "class Prior:\n",
    "\tSIDD  = 0.25\n",
    "\tSIRD  = 0.30\n",
    "\tCIRDD = 0.08\n",
    "\tMOD   = 0.02\n",
    "\tMARD  = 0.35\n",
    "   \n",
    "\tdef as_array(self) -> np.ndarray:\n",
    "\t\t\"\"\"Prior array representation.\"\"\"\n",
    "\t\t\n",
    "\t\ta = np.array([self.SIDD, self.SIRD, self.CIRDD, self.MOD, self.MARD], float)\n",
    "\t\t\n",
    "\t\treturn a / a.sum()\n",
    "\n",
    "\n",
    "LAMBDA_PRIOR = 0.1\n",
    "\n",
    "prior = Prior()\n",
    "pct   = LAMBDA_PRIOR*soft + (1.0 - LAMBDA_PRIOR)*(prior.as_array()[None,:]*100.0)"
   ]
  },
  {
   "cell_type": "markdown",
   "id": "029931f5",
   "metadata": {},
   "source": [
    "Construct output frame:"
   ]
  },
  {
   "cell_type": "code",
   "execution_count": 8,
   "id": "169ac7f0",
   "metadata": {},
   "outputs": [],
   "source": [
    "main = df_clean[ID_COLS].copy()\n",
    "\n",
    "# transpose because pct is (n_districts, 5)\n",
    "main[\"SIDD_pct\"], main[\"SIRD_pct\"], main[\"CIRDD_pct\"], main[\"MOD_pct\"], main[\"MARD_pct\"] = pct.T"
   ]
  },
  {
   "cell_type": "markdown",
   "id": "9d9a2ddf",
   "metadata": {},
   "source": [
    "Construct audit frame:"
   ]
  },
  {
   "cell_type": "code",
   "execution_count": 9,
   "id": "46b4b69c",
   "metadata": {},
   "outputs": [],
   "source": [
    "audit = df_clean[ID_COLS].copy()\n",
    "\n",
    "audit[\"OVER_z\"], audit[\"WAIST_z\"], audit[\"HTN_z\"], audit[\"GLU_z\"], audit[\"UNDERWT_z\"], audit[\"AGE45_z\"] = OVER_z, WAIST_z, HTN_z, GLU_z, UNDER_z, AGE45_z\n",
    "audit[\"IR_index\"], audit[\"DEF_index\"], audit[\"GLY_index\"], audit[\"AGE_index\"]                          = IR_index, DEF_index, GLY_index, AGE_index\n",
    "audit[\"SIDD_raw\"], audit[\"SIRD_raw\"], audit[\"CIRDD_raw\"], audit[\"MOD_raw\"], audit[\"MARD_raw\"]          = SIDD_raw, SIRD_raw, CIRDD_raw, MOD_raw, MARD_raw"
   ]
  },
  {
   "cell_type": "markdown",
   "id": "2fdc87d7",
   "metadata": {},
   "source": [
    "Compute priority scores:"
   ]
  },
  {
   "cell_type": "code",
   "execution_count": 10,
   "id": "1ed67223",
   "metadata": {},
   "outputs": [],
   "source": [
    "def z_norm(series:pd.Series) -> pd.Series:\n",
    "\t\"\"\"Z-score normalize a pandas Series, returns 0 if std == 0.\"\"\"\n",
    "\t\n",
    "\tmu    = series.mean(skipna=True)\n",
    "\tsigma = series.std(skipna=True, ddof=0)\n",
    "\t\n",
    "\tif pd.isna(sigma) or sigma == 0: return pd.Series(np.zeros(len(series)), index=series.index)\n",
    "\t\n",
    "\treturn (series - mu) / sigma\n",
    "\n",
    "\n",
    "# choose proxies for inputs\n",
    "diabetes_norm  = z_norm(audit[\"GLY_index\"])\n",
    "obesity_norm   =  z_norm(audit[\"OVER_z\"])\n",
    "affluence_norm = z_norm(df_clean[\"Population in Highest Wealth Quintile (%)\"])\n",
    "\n",
    " # subtype shares (already percentages in main), normalize them\n",
    "sird_norm = z_norm(main[\"SIRD_pct\"])\n",
    "mod_norm  = z_norm(main[\"MOD_pct\"])\n",
    "\n",
    " # Compute scores\n",
    "main[\"Priority_Score\"]              = (0.5*diabetes_norm + 0.3*obesity_norm + 0.2*affluence_norm) * 100\n",
    "main[\"GLP1_Focused_Priority_Score\"] = (0.4*diabetes_norm + 0.3*obesity_norm + 0.2*affluence_norm + 0.05*sird_norm + 0.05*mod_norm) * 100"
   ]
  },
  {
   "cell_type": "markdown",
   "id": "9623a133",
   "metadata": {},
   "source": [
    "Output CSV result:"
   ]
  },
  {
   "cell_type": "code",
   "execution_count": 11,
   "id": "4b540d33",
   "metadata": {},
   "outputs": [],
   "source": [
    "import os\n",
    "\n",
    "OUT_DIR  = os.path.abspath(os.path.join(\".\", \"out\"))\n",
    "OUT_PATH = os.path.join(OUT_DIR, \"subphenotypes.csv\")\n",
    "\n",
    "# create if doesn't exist\n",
    "os.makedirs(OUT_DIR, exist_ok=True)\n",
    "\n",
    "main.sort_values(ID_COLS).to_csv(OUT_PATH, index=False)"
   ]
  }
 ],
 "metadata": {
  "kernelspec": {
   "display_name": ".venv",
   "language": "python",
   "name": "python3"
  },
  "language_info": {
   "codemirror_mode": {
    "name": "ipython",
    "version": 3
   },
   "file_extension": ".py",
   "mimetype": "text/x-python",
   "name": "python",
   "nbconvert_exporter": "python",
   "pygments_lexer": "ipython3",
   "version": "3.13.7"
  }
 },
 "nbformat": 4,
 "nbformat_minor": 5
}
