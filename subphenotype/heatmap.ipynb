{
 "cells": [
  {
   "cell_type": "markdown",
   "id": "7e5ad4df",
   "metadata": {},
   "source": [
    "# Geospatial Heatmap Data Visualization\n",
    "\n",
    "Configure paths and column names:"
   ]
  },
  {
   "cell_type": "code",
   "execution_count": 1,
   "id": "2b2f7755",
   "metadata": {},
   "outputs": [],
   "source": [
    "import os\n",
    "import json\n",
    "import numpy as np\n",
    "import pandas as pd\n",
    "import folium\n",
    "from folium.features import GeoJsonTooltip\n",
    "\n",
    "# paths\n",
    "OUT_DIR      = os.path.abspath(os.path.join(\".\", \"out\"))\n",
    "IN_PATH      = os.path.join(OUT_DIR, \"subphenotypes.csv\")\n",
    "GEOJSON_PATH = os.path.abspath(os.path.join(\".\", \"data\", \"assets\", \"districts.geojson\"))\n",
    "\n",
    "# column names\n",
    "SCORE_COL    = \"GLP1_Focused_Priority_Score\"\n",
    "DISTRICT_CSV = \"District\"\n",
    "STATE_CSV    = \"State/UT\"\n",
    "\n",
    "# geojson field names\n",
    "DISTRICT_GJ  = \"district\"\n",
    "STATE_GJ     = \"st_nm\"\n",
    "\n",
    "# output path\n",
    "OUT_HTML     = os.path.join(OUT_DIR, \"heatmap.html\")"
   ]
  },
  {
   "cell_type": "markdown",
   "id": "04b32ec1",
   "metadata": {},
   "source": [
    "Construct alias mapping:"
   ]
  },
  {
   "cell_type": "code",
   "execution_count": 2,
   "id": "2cfb6d80",
   "metadata": {},
   "outputs": [],
   "source": [
    "# alias map to reconcile common spelling variants between CSV and GeoJSON\n",
    "ALIASES = {\n",
    "    \"aizawl\":  \"aizawal\",\n",
    "    \"belgaum\": \"belagavi\",\n",
    "    \"aravali\": \"aravalli\"\n",
    "}"
   ]
  },
  {
   "cell_type": "markdown",
   "id": "0b1492a2",
   "metadata": {},
   "source": [
    "Construct lookup:"
   ]
  },
  {
   "cell_type": "code",
   "execution_count": 3,
   "id": "454da5b8",
   "metadata": {},
   "outputs": [
    {
     "name": "stdout",
     "output_type": "stream",
     "text": [
      "{('adilabad', 'telangana'): 115.65736135380602, ('agar malwa', 'madhya pradesh'): -71.67599390937184, ('agra', 'uttar pradesh'): -50.83056890837205, ('ahmadabad', 'gujarat'): 16.46523168895667, ('ahmadnagar', 'maharashtra'): -2.09809025856855, ('aizawal', 'mizoram'): 31.567590832021537, ('ajmer', 'rajasthan'): -85.02986059065623, ('akola', 'maharashtra'): -1.7197868256853606, ('alappuzha', 'kerala'): 235.93595803948332, ('aligarh', 'uttar pradesh'): -50.1414952480193, ('alirajpur', 'madhya pradesh'): -70.00840886253499, ('allahabad', 'uttar pradesh'): -49.72247768442658, ('almora', 'uttarakhand'): 21.88136972557858, ('alwar', 'rajasthan'): -81.89716296517489, ('ambala', 'haryana'): 55.20743976867241, ('ambedkar nagar', 'uttar pradesh'): -49.9667404622019, ('amethi', 'uttar pradesh'): -50.29013476037388, ('amravati', 'maharashtra'): -2.186005603088592, ('amreli', 'gujarat'): 15.917848930799655, ('amritsar', 'punjab'): 92.64179906974545, ('anand', 'gujarat'): 16.609794871367907, ('anantapur', 'andhra pradesh'): 100.67596545808028, ('anantnag', 'jammu & kashmir'): -13.917191758367384, ('anjaw', 'arunachal pradesh'): -46.09062809077915, ('anugul', 'odisha'): -8.402028358187067, ('anuppur', 'madhya pradesh'): -70.8817637149214, ('araria', 'bihar'): -54.742813720650176, ('aravalli', 'gujarat'): 17.055295069116934, ('ariyalur', 'tamil nadu'): 136.76606501797662, ('arwal', 'bihar'): -54.64353020435888, ('ashoknagar', 'madhya pradesh'): -70.89503955984769, ('auraiya', 'uttar pradesh'): -50.422463563014894, ('aurangabad', 'bihar'): -54.74705698789813, ('aurangabad', 'maharashtra'): -1.7344727720506394, ('azamgarh', 'uttar pradesh'): -50.132730074017175, ('badgam', 'jammu & kashmir'): -13.008684193899562, ('bagalkot', 'karnataka'): 35.55827653134392, ('bageshwar', 'uttarakhand'): 22.471193414338565, ('baghpat', 'uttar pradesh'): -50.08051761703113, ('bahraich', 'uttar pradesh'): -48.99618791325433, ('baksa', 'assam'): -45.865615990575854, ('balaghat', 'madhya pradesh'): -73.35276167528075, ('balangir', 'odisha'): -7.979738366492997, ('baleshwar', 'odisha'): -8.333083329358978, ('ballia', 'uttar pradesh'): -49.52640433374155, ('balod', 'chhattisgarh'): -92.61457648829654, ('baloda bazar', 'chhattisgarh'): -92.26186107253564, ('balrampur', 'chhattisgarh'): -90.11557023696028, ('balrampur', 'uttar pradesh'): -49.10406614147296, ('banas kantha', 'gujarat'): 17.0497218340078, ('banda', 'uttar pradesh'): -49.630175755492, ('bandipore', 'jammu & kashmir'): -12.938002173196622, ('banka', 'bihar'): -54.76724146027628, ('bankura', 'west bengal'): 15.108673861659875, ('banswara', 'rajasthan'): -79.55138702455795, ('bara banki', 'uttar pradesh'): -49.55247287117152, ('baramula', 'jammu & kashmir'): -13.469503075082953, ('baran', 'rajasthan'): -81.42384065123174, ('bareilly', 'uttar pradesh'): -49.80926814800397, ('bargarh', 'odisha'): 54.65770309028536, ('barmer', 'rajasthan'): -79.91553862941913, ('barnala', 'punjab'): 93.01868078750692, ('barpeta', 'assam'): -45.672534080231145, ('barwani', 'madhya pradesh'): -70.1038153657367, ('bastar', 'chhattisgarh'): -89.88834808011596, ('basti', 'uttar pradesh'): -49.74211723735776, ('bathinda', 'punjab'): 93.35103761737142, ('baudh', 'odisha'): -7.870874756878418, ('begusarai', 'bihar'): -54.737328046020885, ('belagavi', 'karnataka'): -8.353930615130933, ('bellary', 'karnataka'): 35.62004034077334, ('bemetara', 'chhattisgarh'): -91.29491465479538, ('bengaluru', 'karnataka'): 33.38629712438513, ('bengaluru rural', 'karnataka'): 35.34861062772225, ('betul', 'madhya pradesh'): -71.98939521888073, ('bhadradri kothagudem', 'telangana'): 58.40894080154537, ('bhadrak', 'odisha'): -7.872620416981858, ('bhagalpur', 'bihar'): -54.71346321282439, ('bhandara', 'maharashtra'): -2.8847365994209992, ('bharatpur', 'rajasthan'): -81.08395136034085, ('bharuch', 'gujarat'): 16.920479339800217, ('bhavnagar', 'gujarat'): 15.99982740314422, ('bhilwara', 'rajasthan'): -82.14820653183122, ('bhind', 'madhya pradesh'): -70.2551388999779, ('bhiwani', 'haryana'): 56.26122472349021, ('bhojpur', 'bihar'): -54.71715132411046, ('bhopal', 'madhya pradesh'): -72.93434781812842, ('bid', 'maharashtra'): -0.9640725802728072, ('bidar', 'karnataka'): 36.04129514880092, ('bijapur', 'chhattisgarh'): -88.79669451014772, ('bijapur', 'karnataka'): 35.88613998919688, ('bijnor', 'uttar pradesh'): -49.24232716230393, ('bikaner', 'rajasthan'): -82.713550499672, ('bilaspur', 'chhattisgarh'): -93.13837123710552, ('bilaspur', 'himachal pradesh'): 43.44666550393309, ('birbhum', 'west bengal'): 14.879652031612912, ('bishnupur', 'manipur'): 43.35629820053317, ('biswanath', 'assam'): -46.537057445193454, ('bokaro', 'jharkhand'): -81.60973678669731, ('bongaigaon', 'assam'): -46.00325506853383, ('botad', 'gujarat'): 16.250712752261123, ('budaun', 'uttar pradesh'): -49.0184143032151, ('bulandshahr', 'uttar pradesh'): -49.84803224665115, ('buldana', 'maharashtra'): -1.2927603881493048, ('bundi', 'rajasthan'): -82.7191751952715, ('burhanpur', 'madhya pradesh'): -70.725913341689, ('buxar', 'bihar'): -54.633499394844456, ('cachar', 'assam'): -46.24469672521255, ('central delhi', 'delhi'): 13.488720457203511, ('chamarajanagar', 'karnataka'): 34.59746802711263, ('chamba', 'himachal pradesh'): 55.828799056338376, ('chamoli', 'uttarakhand'): 23.19215817047136, ('champawat', 'uttarakhand'): 23.51138700111185, ('champhai', 'mizoram'): 33.65450087084369, ('chandauli', 'uttar pradesh'): -49.64955033735585, ('chandel', 'manipur'): 43.97393063610853, ('chandel', 'mizoram'): 30.705709000129023, ('chandigarh', 'chandigarh'): 43.75707663894812, ('chandrapur', 'maharashtra'): -2.608296195918251, ('changlang', 'arunachal pradesh'): -45.43315544290935, ('charaideo', 'assam'): -47.71257965424459, ('charkhi dadri', 'haryana'): 56.2614735300316, ('chatra', 'jharkhand'): -80.49669570619447, ('chennai', 'tamil nadu'): 136.299782829022, ('chhatarpur', 'madhya pradesh'): -70.35571532374139, ('chhindwara', 'madhya pradesh'): -72.69408236577566, ('chhota udaipur', 'gujarat'): 16.89410311449205, ('chikkaballapura', 'karnataka'): 35.57847705980675, ('chikmagalur', 'karnataka'): 33.306607098711254, ('chirang', 'assam'): -45.81098184520592, ('chitradurga', 'karnataka'): 35.25416287883424, ('chitrakoot', 'uttar pradesh'): -48.6275760909746, ('chittaurgarh', 'rajasthan'): -83.56048701844881, ('chittoor', 'andhra pradesh'): 100.38466365950369, ('churachandpur', 'manipur'): 44.05248644988517, ('churu', 'rajasthan'): -83.41137714567782, ('coimbatore', 'tamil nadu'): 136.56396327921277, ('cuddalore', 'tamil nadu'): 136.4602967894779, ('cuttack', 'odisha'): -8.847190215154244, ('dadra & nagar haveli', 'dadra and nagar haveli & daman and diu'): -24.86294070530817, ('dakshin dinajpur', 'west bengal'): 14.918555668096683, ('dakshina kannada', 'karnataka'): 31.222825675198276, ('daman', 'dadra and nagar haveli & daman and diu'): -26.138465681178648, ('damoh', 'madhya pradesh'): -71.03156464722318, ('dantewada', 'chhattisgarh'): -89.38162020060084, ('darbhanga', 'bihar'): -54.77748736685424, ('darjiling', 'west bengal'): -17.401759995283363, ('darrang', 'assam'): -45.63028161685263, ('datia', 'madhya pradesh'): -70.67740566813697, ('dausa', 'rajasthan'): -80.86722554814618, ('davanagere', 'karnataka'): 34.95670245407365, ('debagarh', 'odisha'): -7.909530612428453, ('dehradun', 'uttarakhand'): 21.311085588460035, ('deoghar', 'jharkhand'): -80.74748013222018, ('deoria', 'uttar pradesh'): -49.623357946263305, ('devbhumi dwarka', 'gujarat'): 15.90746297189694, ('dewas', 'madhya pradesh'): -71.94603704695285, ('dhalai', 'tripura'): 24.854964758367576, ('dhamtari', 'chhattisgarh'): -92.49456430845775, ('dhanbad', 'jharkhand'): -81.91398433019378, ('dhar', 'madhya pradesh'): -70.53721225553903, ('dharmapuri', 'tamil nadu'): 137.2844813587571, ('dharwad', 'karnataka'): 35.019208227471225, ('dhaulpur', 'rajasthan'): -79.60214661455502, ('dhemaji', 'assam'): -45.98125548830141, ('dhenkanal', 'odisha'): -8.186274612948125, ('dhubri', 'assam'): -45.73342361834064, ('dhule', 'maharashtra'): -0.8965154941676403, ('dibang valley', 'arunachal pradesh'): -51.86757418611673, ('dibrugarh', 'assam'): -48.342906441142006, ('dima hasao', 'assam'): -46.44062102882495, ('dimapur', 'nagaland'): -60.45704091289673, ('dindigul', 'tamil nadu'): 136.8927272630427, ('dindori', 'madhya pradesh'): -70.9048012842183, ('diu', 'dadra and nagar haveli & daman and diu'): -86.72689677030827, ('doda', 'jammu & kashmir'): -14.315529128745933, ('dohad', 'gujarat'): 16.96672677016427, ('dumka', 'jharkhand'): -80.50398041843289, ('dungarpur', 'rajasthan'): -81.20945002473883, ('durg', 'chhattisgarh'): -93.86187185077422, ('east delhi', 'delhi'): 125.10792010638826, ('east district', 'sikkim'): 67.9073690988646, ('east garo hills', 'meghalaya'): -36.8451791314522, ('east godavari', 'andhra pradesh'): 99.02737539799271, ('east jantia hills', 'meghalaya'): -36.97023317466486, ('east kameng', 'arunachal pradesh'): -44.94812218758021, ('east khasi hills', 'meghalaya'): -40.06063542256697, ('east siang', 'arunachal pradesh'): -46.69504808354294, ('ernakulam', 'kerala'): 235.4886267918405, ('erode', 'tamil nadu'): 137.10950386610563, ('etah', 'uttar pradesh'): -50.07135028596663, ('etawah', 'uttar pradesh'): -50.32320797900329, ('faizabad', 'uttar pradesh'): -50.11381685358827, ('faridabad', 'haryana'): 55.80772772814073, ('faridkot', 'punjab'): 92.45769481229752, ('farrukhabad', 'uttar pradesh'): -49.78809526858556, ('fatehabad', 'haryana'): 56.329725142287366, ('fatehgarh sahib', 'punjab'): 92.48617392237452, ('fatehpur', 'uttar pradesh'): -49.58733471182596, ('fazilka', 'punjab'): 92.91667905227884, ('firozabad', 'uttar pradesh'): -50.43441817546977, ('firozpur', 'punjab'): 92.91787914209247, ('gadag', 'karnataka'): 35.55224507261036, ('gadchiroli', 'maharashtra'): -1.0299414451182076, ('gajapati', 'odisha'): -8.606969339383557, ('ganderbal', 'jammu & kashmir'): -14.04291278261315, ('gandhinagar', 'gujarat'): 16.391929450421074, ('ganganagar', 'rajasthan'): 38.18400781686035, ('ganjam', 'odisha'): -9.039595790076248, ('garhwa', 'jharkhand'): -87.66214479553501, ('garhwal', 'uttarakhand'): 22.48614804129613, ('gariyaband', 'chhattisgarh'): -90.9461884095566, ('gautam buddha nagar', 'uttar pradesh'): -52.025938918605, ('gaya', 'bihar'): -54.76426123898786, ('ghaziabad', 'uttar pradesh'): -51.512132667488274, ('ghazipur', 'uttar pradesh'): -49.34641347124295, ('gir somnath', 'gujarat'): 16.123613907235036, ('giridih', 'jharkhand'): -80.70304186095946, ('goalpara', 'assam'): -45.71903602342308, ('godda', 'jharkhand'): -80.67893812007819, ('golaghat', 'assam'): -47.00625500724686, ('gomati', 'tripura'): 17.01477701055462, ('gonda', 'uttar pradesh'): -49.492160985826814, ('gondiya', 'maharashtra'): -3.051027219827718, ('gopalganj', 'bihar'): -54.95189212624574, ('gorakhpur', 'uttar pradesh'): -49.98623469983736, ('gulbarga', 'karnataka'): 36.01054202197078, ('gumla', 'jharkhand'): -80.78141100563319, ('guna', 'madhya pradesh'): -70.67729586359309, ('guntur', 'andhra pradesh'): 100.5788140524026, ('gurdaspur', 'punjab'): 92.74112500945382, ('gurgaon', 'haryana'): 55.41076615237065, ('gwalior', 'madhya pradesh'): -71.98004916812467, ('hailakandi', 'assam'): -45.85195177313685, ('hamirpur', 'himachal pradesh'): 43.462179967788295, ('hamirpur', 'uttar pradesh'): -49.55789939187892, ('hanumangarh', 'rajasthan'): -82.36190221822226, ('haora', 'west bengal'): 14.680188780543352, ('hapur', 'uttar pradesh'): -50.27236353565806, ('harda', 'madhya pradesh'): -71.43730386390601, ('hardoi', 'uttar pradesh'): -49.48330645204222, ('hardwar', 'uttarakhand'): 24.53886812994011, ('hassan', 'karnataka'): 34.270603251172474, ('haveri', 'karnataka'): 35.50105633647766, ('hazaribagh', 'jharkhand'): -81.20533171620467, ('hingoli', 'maharashtra'): -0.7222456417683654, ('hisar', 'haryana'): 56.087369592843885, ('hojai', 'assam'): -45.86051285777627, ('hoshangabad', 'madhya pradesh'): -72.25854153567604, ('hoshiarpur', 'punjab'): 92.43992006586753, ('hugli', 'west bengal'): 15.017572904946809, ('hyderabad', 'telangana'): 56.81019193209038, ('idukki', 'kerala'): 236.40447910396824, ('imphal east', 'manipur'): 42.89573871451321, ('imphal west', 'manipur'): 42.39680734182004, ('indore', 'madhya pradesh'): -72.78443787554491, ('jabalpur', 'madhya pradesh'): -72.92940801254898, ('jagatsinghapur', 'odisha'): -8.290478562705841, ('jagitial', 'telangana'): 57.76013488003785, ('jaipur', 'rajasthan'): -83.93701486479829, ('jaisalmer', 'rajasthan'): -81.2866027657282, ('jajapur', 'odisha'): -7.812323025690985, ('jalandhar', 'punjab'): 92.20904381474686, ('jalaun', 'uttar pradesh'): -50.39042194853561, ('jalgaon', 'maharashtra'): -1.825724791171783, ('jalna', 'maharashtra'): -0.9608811457645524, ('jalor', 'rajasthan'): -80.19334033977647, ('jalpaiguri', 'west bengal'): 15.197741966471856, ('jammu', 'jammu & kashmir'): -19.064262169298352, ('jamnagar', 'gujarat'): 15.67902258356705, ('jamtara', 'jharkhand'): -80.69118808316533, ('jamui', 'bihar'): -54.65252462623573, ('jangoan', 'telangana'): 58.2143233997113, ('janjgir - champa', 'chhattisgarh'): -93.03541553100906, ('jashpur', 'chhattisgarh'): -91.4175331768671, ('jaunpur', 'uttar pradesh'): -50.16559058916394, ('jayashankar bhupalapally', 'telangana'): 58.42882729710982, ('jehanabad', 'bihar'): -54.684367127523714, ('jhabua', 'madhya pradesh'): -70.09134072533341, ('jhajjar', 'haryana'): 56.01453596143463, ('jhalawar', 'rajasthan'): -81.45830431953753, ('jhansi', 'uttar pradesh'): -51.02029469580276, ('jharsuguda', 'odisha'): -9.019678346334771, ('jhunjhunun', 'rajasthan'): -84.19931158500295, ('jind', 'haryana'): 56.37341719637157, ('jodhpur', 'rajasthan'): -83.93492964223341, ('jogulamba gadwal', 'telangana'): 58.16511587819858, ('jorhat', 'assam'): -49.92002960642085, ('junagadh', 'gujarat'): 15.77070457471031, ('jyotiba phule nagar', 'uttar pradesh'): -49.31160359013827, ('kabeerdham', 'chhattisgarh'): -90.57273279161596, ('kachchh', 'gujarat'): 132.99809778145584, ('kaimur (bhabua)', 'bihar'): -54.657320796307495, ('kaithal', 'haryana'): 56.18209147210828, ('kalahandi', 'odisha'): -7.605183405825473, ('kamareddy', 'telangana'): 58.27068580351639, ('kamrup', 'assam'): -46.56721445014461, ('kamrup metropolitan', 'assam'): -48.50355837105318, ('kancheepuram', 'tamil nadu'): 136.89471545079638, ('kandhamal', 'odisha'): -7.576824749189784, ('kangra', 'himachal pradesh'): 43.46924643035667, ('kannauj', 'uttar pradesh'): -49.59719983421477, ('kanniyakumari', 'tamil nadu'): 135.496469239625, ('kannur', 'kerala'): 236.252558212141, ('kanpur dehat', 'uttar pradesh'): -50.17612108439088, ('kanpur nagar', 'uttar pradesh'): -52.49174248837204, ('kanshiram nagar', 'uttar pradesh'): -49.47960880242904, ('kapurthala', 'punjab'): 140.6300079722504, ('karaikal', 'puducherry'): 184.72927041549647, ('karauli', 'rajasthan'): -78.96064962071651, ('karbi anglong', 'assam'): -45.80761560996305, ('kargil', 'ladakh'): -35.771330548633394, ('karimganj', 'assam'): -45.91902385229557, ('karimnagar', 'telangana'): 57.74596248904975, ('karnal', 'haryana'): 55.895309778612656, ('karur', 'tamil nadu'): 136.46903203244497, ('kasaragod', 'kerala'): 86.68456339812705, ('kathua', 'jammu & kashmir'): -16.859291203167764, ('katihar', 'bihar'): -54.74669083402389, ('katni', 'madhya pradesh'): -71.15430818778479, ('kaushambi', 'uttar pradesh'): -48.816474279711606, ('kendrapara', 'odisha'): -8.063458708494528, ('kendujhar', 'odisha'): -7.682710847471099, ('khagaria', 'bihar'): -54.68520330930691, ('khammam', 'telangana'): 58.20210252425196, ('khandwa (east nimar)', 'madhya pradesh'): -70.84633937869201, ('khargone (west nimar)', 'madhya pradesh'): -70.6225793404863, ('kheda', 'gujarat'): 16.723687019745643, ('kheri', 'uttar pradesh'): -49.20165796016439, ('khordha', 'odisha'): -9.548577788831878, ('khowai', 'tripura'): 17.068129961104255, ('khunti', 'jharkhand'): -80.60138447718838, ('kinnaur', 'himachal pradesh'): 41.85047949054265, ('kiphire', 'nagaland'): -58.00931430160586, ('kishanganj', 'bihar'): -54.9954630321696, ('kishtwar', 'jammu & kashmir'): -12.870421466958504, ('koch bihar', 'west bengal'): 15.074730482183774, ('kodagaon', 'chhattisgarh'): -89.73162895527668, ('kodagu', 'karnataka'): 30.2682385677441, ('kodarma', 'jharkhand'): -80.63285129300574, ('kohima', 'nagaland'): -62.15078369270242, ('kokrajhar', 'assam'): -89.92460912243352, ('kolar', 'karnataka'): 35.01426945285007, ('kolasib', 'mizoram'): 34.15671442877362, ('kolhapur', 'maharashtra'): -3.642708563035625, ('kolkata', 'west bengal'): 14.26440877058469, ('kollam', 'kerala'): 236.01628889974924, ('komaram bheem asifabad', 'telangana'): 58.19173682431684, ('koppal', 'karnataka'): 36.16447270407738, ('koraput', 'odisha'): -7.429835185826174, ('korba', 'chhattisgarh'): -91.2334249997873, ('koriya', 'chhattisgarh'): 85.81566303507418, ('kota', 'rajasthan'): -85.57339895723175, ('kottayam', 'kerala'): 236.16032314770007, ('kozhikode', 'kerala'): 235.60612423226087, ('kra daadi', 'arunachal pradesh'): -44.79787016254589, ('krishna', 'andhra pradesh'): 99.39649600381917, ('krishnagiri', 'tamil nadu'): 136.824662189895, ('kulgam', 'jammu & kashmir'): -13.77004252772104, ('kullu', 'himachal pradesh'): 44.59907439923735, ('kupwara', 'jammu & kashmir'): 46.01822408270404, ('kurnool', 'andhra pradesh'): 101.9458419736699, ('kurukshetra', 'haryana'): 55.40172035242952, ('kurung kumey', 'arunachal pradesh'): -44.74863611782365, ('kushinagar', 'uttar pradesh'): -49.064569073816045, ('lahul & spiti', 'himachal pradesh'): 41.03653728105389, ('lakhimpur', 'assam'): -46.19545228412402, ('lakhisarai', 'bihar'): -54.64986775306646, ('lakshadweep', 'lakshadweep'): -42.0202202379233, ('lalitpur', 'uttar pradesh'): -49.74051016024121, ('latehar', 'jharkhand'): -80.47871720895938, ('latur', 'maharashtra'): -1.1221646047720402, ('lawngtlai', 'mizoram'): 35.00605285871971, ('leh(ladakh)', 'ladakh'): 190.36095774356144, ('lohardaga', 'jharkhand'): -80.95196765262669, ('lohit', 'arunachal pradesh'): -45.66143052077903, ('longding', 'arunachal pradesh'): -45.01046988856167, ('longleng', 'nagaland'): -58.26957432332618, ('lower dibang valley', 'arunachal pradesh'): -46.3507904382425, ('lower subansiri', 'arunachal pradesh'): -45.62944949492064, ('lucknow', 'uttar pradesh'): -52.46234030730874, ('ludhiana', 'punjab'): 91.45676514629425, ('lunglei', 'mizoram'): 33.91888032958513, ('madhepura', 'bihar'): -54.64633250569354, ('madhubani', 'bihar'): -54.78267232350213, ('madurai', 'tamil nadu'): 136.65742245972191, ('mahabubabad', 'telangana'): 58.24521635334351, ('mahabubnagar', 'telangana'): 58.00970919466968, ('mahamaya nagar', 'uttar pradesh'): -50.11976643809368, ('mahasamund', 'chhattisgarh'): -91.75252578507744, ('mahe', 'puducherry'): 184.24148736667695, ('mahendragarh', 'haryana'): 55.72368909016963, ('mahesana', 'gujarat'): 16.4560209405064, ('mahisagar', 'gujarat'): 17.05375758961839, ('mahoba', 'uttar pradesh'): -49.36794606144579, ('mahrajganj', 'uttar pradesh'): -49.41234564818056, ('mainpuri', 'uttar pradesh'): -49.98325236170514, ('majuli', 'assam'): -48.32240689978855, ('malappuram', 'kerala'): 235.33467627400225, ('maldah', 'west bengal'): 14.771555845461537, ('malkangiri', 'odisha'): -7.477019017257263, ('mamit', 'mizoram'): 34.74760270325354, ('mancherial', 'telangana'): 58.06022859990623, ('mandi', 'himachal pradesh'): 44.16734852348353, ('mandla', 'madhya pradesh'): -71.12018555472844, ('mandsaur', 'madhya pradesh'): -72.95186766261776, ('mandya', 'karnataka'): 34.078174899981015, ('mansa', 'punjab'): 93.3916395265284, ('mathura', 'uttar pradesh'): -50.62674024371008, ('mau', 'uttar pradesh'): -50.33169484378431, ('mayurbhanj', 'odisha'): -7.643500713543294, ('medak', 'telangana'): 58.08082938171219, ('medchal-malkajgiri', 'telangana'): 56.76067239330911, ('meerut', 'uttar pradesh'): -50.215202016680735, ('mewat', 'haryana'): 57.24965669158478, ('mirzapur', 'uttar pradesh'): -50.03026639877082, ('moga', 'punjab'): 92.78015594819296, ('mokokchung', 'nagaland'): -61.35511469850557, ('mon', 'nagaland'): -0.5159412778800988, ('moradabad', 'uttar pradesh'): -49.98597505183999, ('morbi', 'gujarat'): 16.154750487611444, ('morena', 'madhya pradesh'): -70.07500331747461, ('morigaon', 'assam'): -45.77577676516289, ('muktsar', 'punjab'): 92.57080910940132, ('mumbai', 'maharashtra'): -4.731830399087136, ('mumbai suburban', 'maharashtra'): -4.685350588727571, ('mungeli', 'chhattisgarh'): -91.25839412010504, ('munger', 'bihar'): -54.854629431478166, ('murshidabad', 'west bengal'): 14.944147943904529, ('muzaffarnagar', 'uttar pradesh'): -49.71056318981651, ('muzaffarpur', 'bihar'): -54.78661092516197, ('mysore', 'karnataka'): 33.24018147272447, ('nabarangapur', 'odisha'): -7.436547141450654, ('nadia', 'west bengal'): 14.995912961668836, ('nagaon', 'assam'): -45.74832584010441, ('nagapattinam', 'tamil nadu'): 136.86622270796602, ('nagarkurnool', 'telangana'): 58.16460988860792, ('nagaur', 'rajasthan'): -82.71393420537558, ('nagpur', 'maharashtra'): -4.134606026855411, ('nainital', 'uttarakhand'): 22.328196413468905, ('nalanda', 'bihar'): -54.77557374993359, ('nalbari', 'assam'): -46.76041853345115, ('nalgonda', 'telangana'): 57.59479687665646, ('namakkal', 'tamil nadu'): 136.6844021342732, ('namsai', 'arunachal pradesh'): -45.82058327273912, ('nanded', 'maharashtra'): -1.044964840494606, ('nandurbar', 'maharashtra'): -35.43553562392878, ('narayanpur', 'chhattisgarh'): -89.12203141000418, ('narmada', 'gujarat'): 17.000811155880474, ('narsimhapur', 'madhya pradesh'): -71.97541086086216, ('nashik', 'maharashtra'): -2.3876489946760007, ('navsari', 'gujarat'): 16.435008138241418, ('nawada', 'bihar'): -54.71197977249492, ('nayagarh', 'odisha'): -8.14724840137359, ('neemuch', 'madhya pradesh'): -73.08812028649997, ('new delhi', 'delhi'): 125.10792010638826, ('nicobars', 'andaman & nicobar islands'): 114.44790286322184, ('nirmal', 'telangana'): 58.15320170802081, ('nizamabad', 'telangana'): 58.23951539472758, ('north  district', 'sikkim'): -4.790299763068504, ('north & middle andaman', 'andaman & nicobar islands'): 113.78106545908145, ('north delhi', 'delhi'): 126.22329515417128, ('north east delhi', 'delhi'): 126.729483672769, ('north garo hills', 'meghalaya'): -37.1015839004693, ('north goa', 'goa'): 42.12587206552888, ('north tripura', 'tripura'): 16.996158487971798, ('north twenty four pargana', 'west bengal'): 14.450068064695914, ('north west delhi', 'delhi'): 126.3107438539639, ('nuapada', 'odisha'): -7.584812880546314, ('osmanabad', 'maharashtra'): -1.440139756904412, ('pakur', 'jharkhand'): -80.53517232200255, ('palakkad', 'kerala'): 236.40208576845708, ('palamu', 'jharkhand'): -80.71547851069863, ('palghar', 'maharashtra'): -0.682074121137456, ('pali', 'rajasthan'): -83.76974149445341, ('palwal', 'haryana'): 56.48010838392206, ('panch mahals', 'gujarat'): 17.197074807397776, ('panchkula', 'haryana'): 55.65164047222705, ('panipat', 'haryana'): 56.0813411245085, ('panna', 'madhya pradesh'): -70.00382721900547, ('papum pare', 'arunachal pradesh'): -45.32704860514772, ('parbhani', 'maharashtra'): -0.8525019193992731, ('paschim barddhaman', 'west bengal'): 14.84648037742252, ('paschim medinipur', 'west bengal'): 15.01459580514739, ('pashchim champaran', 'bihar'): -47.453420013570266, ('pashchimi singhbhum', 'jharkhand'): -80.83988132921449, ('patan', 'gujarat'): 16.831833800548896, ('pathanamthitta', 'kerala'): 236.713941739178, ('pathankot', 'punjab'): 92.29249897164364, ('patiala', 'punjab'): 91.95816227433876, ('patna', 'bihar'): -55.005654675911565, ('peddapalli', 'telangana'): 57.766622672861125, ('perambalur', 'tamil nadu'): 136.67565831398286, ('peren', 'nagaland'): -58.78381685796184, ('phek', 'nagaland'): -59.58626061053348, ('pilibhit', 'uttar pradesh'): -49.330640650859934, ('pithoragarh', 'uttarakhand'): 22.561435817891176, ('porbandar', 'gujarat'): 15.174622236410944, ('prakasam', 'andhra pradesh'): 100.8146322420158, ('pratapgarh', 'rajasthan'): -80.19888375681028, ('pratapgarh', 'uttar pradesh'): -49.57790277687057, ('puducherry', 'puducherry'): 184.97913598752825, ('pudukkottai', 'tamil nadu'): 136.77599699392778, ('pulwama', 'jammu & kashmir'): -13.113906253262822, ('punch', 'jammu & kashmir'): -13.052851448958457, ('pune', 'maharashtra'): -4.020862450629917, ('purba barddhaman', 'west bengal'): 14.99935741154864, ('purba champaran', 'bihar'): -54.798890377055166, ('purba medinipur', 'west bengal'): 14.61266514691858, ('purbi singhbhum', 'jharkhand'): -82.67240737764845, ('puri', 'odisha'): -9.15223320745935, ('purnia', 'bihar'): -54.79441422147238, ('puruliya', 'west bengal'): 14.979340680191164, ('rae bareli', 'uttar pradesh'): -49.9691804864293, ('raichur', 'karnataka'): 36.415598302608046, ('raigarh', 'chhattisgarh'): -92.67756100281962, ('raigarh', 'maharashtra'): -3.246250130496989, ('raipur', 'chhattisgarh'): -92.51552587043592, ('raisen', 'madhya pradesh'): -70.64399581514455, ('rajanna sircilla', 'telangana'): 58.02263150488568, ('rajgarh', 'madhya pradesh'): -71.57837586508562, ('rajkot', 'gujarat'): 15.68889621171482, ('rajnandgaon', 'chhattisgarh'): -91.71232230444524, ('rajouri', 'jammu & kashmir'): -13.037797031529774, ('rajsamand', 'rajasthan'): -83.55261443210739, ('ramanagara', 'karnataka'): 35.13881372678799, ('ramanathapuram', 'tamil nadu'): 136.5020984024245, ('ramban', 'jammu & kashmir'): -12.99248471656613, ('ramgarh', 'jharkhand'): -81.42613142271802, ('rampur', 'uttar pradesh'): -48.886516769647656, ('ranchi', 'jharkhand'): -81.5940627302702, ('ranga reddy', 'telangana'): 57.49690754723951, ('ratlam', 'madhya pradesh'): -72.33572898342085, ('ratnagiri', 'maharashtra'): -5.401147357468501, ('rayagada', 'odisha'): -7.622527701374239, ('reasi', 'jammu & kashmir'): -13.07354972085742, ('rewa', 'madhya pradesh'): -70.347882982925, ('rewari', 'haryana'): 55.4592176055467, ('ribhoi', 'meghalaya'): -37.33607728329706, ('rohtak', 'haryana'): 55.69347232284196, ('rohtas', 'bihar'): -54.7633820021816, ('rudraprayag', 'uttarakhand'): 21.81045018570558, ('rupnagar', 'punjab'): 92.08666507064788, ('sabar kantha', 'gujarat'): 16.973297507508196, ('sagar', 'madhya pradesh'): -71.67786957462577, ('saharanpur', 'uttar pradesh'): 1.9072899702598, ('saharsa', 'bihar'): -54.69379640548778, ('sahibganj', 'jharkhand'): -80.41665034245698, ('sahibzada ajit singh nagar', 'punjab'): 91.47851444765033, ('salem', 'tamil nadu'): 137.0106120336616, ('samastipur', 'bihar'): -54.71082154059334, ('samba', 'jammu & kashmir'): -17.0257647254709, ('sambalpur', 'odisha'): -8.691541530381924, ('sambhal', 'uttar pradesh'): -49.1178942071033, ('sangareddy', 'telangana'): 57.973438628262265, ('sangli', 'maharashtra'): -3.231106926392742, ('sangrur', 'punjab'): 93.09465755111216, ('sant kabir nagar', 'uttar pradesh'): -49.80305075315039, ('sant ravidas nagar (bhadohi)', 'uttar pradesh'): -49.953075696397, ('saraikela-kharsawan', 'jharkhand'): -80.98880816361323, ('saran', 'bihar'): -54.77146183743322, ('satara', 'maharashtra'): -3.7914088494141103, ('satna', 'madhya pradesh'): -70.31743020365883, ('sawai madhopur', 'rajasthan'): -81.22227105470411, ('sehore', 'madhya pradesh'): -71.33665019834939, ('senapati', 'manipur'): 34.39615541721417, ('seoni', 'madhya pradesh'): -71.83350952377879, ('sepahijala', 'tripura'): 17.05698370686381, ('serchhip', 'mizoram'): 33.362377365416954, ('shahdara', 'delhi'): 126.57588257136914, ('shahdol', 'madhya pradesh'): -70.56431534195622, ('shahid bhagat singh nagar', 'punjab'): 92.5826656023516, ('shahjahanpur', 'uttar pradesh'): -49.31037289373504, ('shajapur', 'madhya pradesh'): -71.74896293468957, ('shamli', 'uttar pradesh'): -49.78528089359829, ('sheikhpura', 'bihar'): -54.774300748499016, ('sheohar', 'bihar'): -54.78557931974674, ('sheopur', 'madhya pradesh'): 41.63875044385444, ('shimla', 'himachal pradesh'): 42.68169868981009, ('shimoga', 'karnataka'): 33.705606157813946, ('shivpuri', 'madhya pradesh'): -70.03886561675806, ('shrawasti', 'uttar pradesh'): -48.444460517261206, ('shupiyan', 'jammu & kashmir'): -12.413472752864656, ('siang', 'arunachal pradesh'): -46.095033641323546, ('siddharthnagar', 'uttar pradesh'): -49.21543116913814, ('siddipet', 'telangana'): 58.27866695195312, ('sidhi', 'madhya pradesh'): -70.15307797106263, ('sikar', 'rajasthan'): -83.78414725809807, ('simdega', 'jharkhand'): -80.92958256370125, ('sindhudurg', 'maharashtra'): -7.733039651016941, ('singrauli', 'madhya pradesh'): -70.17855487219661, ('sirmaur', 'himachal pradesh'): 44.83690886223861, ('sirohi', 'rajasthan'): -83.68491288442362, ('sirsa', 'haryana'): 56.100782847939165, ('sitamarhi', 'bihar'): -54.81648657899096, ('sitapur', 'uttar pradesh'): -49.4526438513439, ('sivaganga', 'tamil nadu'): 136.3292279051658, ('sivasagar', 'assam'): -48.94385182782258, ('siwan', 'bihar'): -54.87435238724741, ('solan', 'himachal pradesh'): 43.64378335625792, ('solapur', 'maharashtra'): -2.123538122360908, ('sonbhadra', 'uttar pradesh'): -49.12162770663529, ('sonipat', 'haryana'): 55.621357566118256, ('sonitpur', 'assam'): -46.32290200192224, ('south andaman', 'andaman & nicobar islands'): 111.22797769595998, ('south delhi', 'delhi'): 124.10844420071608, ('south district', 'sikkim'): 69.08141965110073, ('south east delhi', 'delhi'): 124.64701824527526, ('south garo hills', 'meghalaya'): -38.92939693624432, ('south goa', 'goa'): 185.57612120899017, ('south salmara mancachar', 'assam'): -45.68683604281403, ('south tripura', 'tripura'): 17.045392877019815, ('south twenty four pargana', 'west bengal'): 15.080458040703398, ('south west delhi', 'delhi'): 125.37822364038703, ('south west garo hills', 'meghalaya'): -36.5816381703263, ('south west khasi hills', 'meghalaya'): -37.1852844907577, ('sri potti sriramulu nello', 'andhra pradesh'): 100.147955187988, ('srikakulam', 'andhra pradesh'): 99.2715936578209, ('srinagar', 'jammu & kashmir'): -15.33613131871921, ('subarnapur', 'odisha'): -8.195708820233714, ('sukma', 'chhattisgarh'): -88.55469138771967, ('sultanpur', 'uttar pradesh'): -50.382300296193904, ('sundargarh', 'odisha'): -8.123150174701001, ('supaul', 'bihar'): -54.650528670220055, ('surajpur', 'chhattisgarh'): -90.6219327220112, ('surat', 'gujarat'): 17.002578885002094, ('surendranagar', 'gujarat'): 16.296254013406397, ('surguja', 'chhattisgarh'): -90.841787599896, ('suryapet', 'telangana'): 57.88528891417042, ('tamenglong', 'manipur'): 43.91909211383644, ('tapi', 'gujarat'): 17.241426778541697, ('tarn taran', 'punjab'): 92.9309847205381, ('tawang', 'arunachal pradesh'): -46.54031940264128, ('tehri garhwal', 'uttarakhand'): 23.463550717002253, ('thane', 'maharashtra'): -2.1343161620393483, ('thanjavur', 'tamil nadu'): 137.19202103628422, ('the dangs', 'gujarat'): 17.149228190248994, ('the nilgiris', 'tamil nadu'): 135.5064424496356, ('theni', 'tamil nadu'): 137.2046208220368, ('thiruvallur', 'tamil nadu'): 69.14539021392788, ('thiruvananthapuram', 'kerala'): 235.7806123650577, ('thiruvarur', 'tamil nadu'): 136.80086433589878, ('thoothukkudi', 'tamil nadu'): 136.37808446481452, ('thoubal', 'manipur'): 43.72352261438917, ('thrissur', 'kerala'): 236.10035219198457, ('tikamgarh', 'madhya pradesh'): -70.19291739252073, ('tinsukia', 'assam'): -47.04659691840716, ('tirap', 'arunachal pradesh'): -45.28277030083493, ('tiruchirappalli', 'tamil nadu'): 136.135838619812, ('tirunelveli', 'tamil nadu'): 136.24353361792564, ('tiruppur', 'tamil nadu'): 136.1732069991636, ('tiruvannamalai', 'tamil nadu'): 136.36252467292272, ('tonk', 'rajasthan'): -81.50095311977681, ('tuensang', 'nagaland'): -57.9977458560467, ('tumkur', 'karnataka'): 34.787796838199, ('udaipur', 'rajasthan'): -80.96955868663295, ('udalguri', 'assam'): -45.78698389410697, ('udham singh nagar', 'uttarakhand'): 23.99735985789165, ('udhampur', 'jammu & kashmir'): -16.268068495006865, ('udupi', 'karnataka'): 28.581428272889287, ('ujjain', 'madhya pradesh'): -73.2143360386732, ('ukhrul', 'manipur'): 43.86847351916602, ('umaria', 'madhya pradesh'): -70.52181915503701, ('una', 'himachal pradesh'): 43.61657034007651, ('unakoti', 'tripura'): 16.965184738159138, ('unnao', 'uttar pradesh'): -49.96982235075513, ('upper siang', 'arunachal pradesh'): -47.74524516226472, ('upper subansiri', 'arunachal pradesh'): -45.6148197817701, ('uttar bastar kanker', 'chhattisgarh'): -90.96524786650136, ('uttar dinajpur', 'west bengal'): 14.731820633571765, ('uttara kannada', 'karnataka'): 33.72429223109774, ('uttarkashi', 'uttarakhand'): -13.485786812856206, ('vadodara', 'gujarat'): 16.525175034666084, ('vaishali', 'bihar'): -54.76291201158608, ('valsad', 'gujarat'): 16.614278413635517, ('varanasi', 'uttar pradesh'): -50.99545394983941, ('vellore', 'tamil nadu'): 136.44411396203543, ('vidisha', 'madhya pradesh'): -70.9581486570791, ('vikarabad', 'telangana'): 58.26041936349421, ('viluppuram', 'tamil nadu'): 136.48594622871565, ('virudhunagar', 'tamil nadu'): 136.03441391264985, ('visakhapatnam', 'andhra pradesh'): 100.19392131143928, ('vizianagaram', 'andhra pradesh'): 99.6981438198707, ('wanaparthy', 'telangana'): 58.09631603800296, ('warangal rural', 'telangana'): 58.31142690645008, ('warangal urban', 'telangana'): 57.54345520487272, ('wardha', 'maharashtra'): -3.3139605485460417, ('washim', 'maharashtra'): -1.1017342779188084, ('wayanad', 'kerala'): 235.8214002579844, ('west delhi', 'delhi'): 124.62448550784612, ('west district', 'sikkim'): 68.99145683000654, ('west garo hills', 'meghalaya'): -37.22618423865897, ('west godavari', 'andhra pradesh'): 98.22865761346374, ('west jaintia hills', 'meghalaya'): -37.24778168724103, ('west kameng', 'arunachal pradesh'): -46.60527585762853, ('west karbi anglong', 'assam'): -45.72600871062548, ('west khasi hills', 'meghalaya'): -37.022240490477785, ('west siang', 'arunachal pradesh'): -46.55631270187155, ('west tripura', 'tripura'): 16.533688094652987, ('wokha', 'nagaland'): -60.62147110973402, ('y.s.r.', 'andhra pradesh'): 100.57740244604234, ('yadadri bhuvanagiri', 'telangana'): 58.04013807012157, ('yadgir', 'karnataka'): 36.37308804122601, ('yamunanagar', 'haryana'): 55.37850903922131, ('yanam', 'puducherry'): 72.37826867242386, ('yavatmal', 'maharashtra'): -1.8181823213526789, ('zunheboto', 'nagaland'): -59.98855003593045, ('nan', 'nan'): 34.345718161884975}\n"
     ]
    }
   ],
   "source": [
    "def norm(s:str) -> str:\n",
    "    if s is None: return \"\"\n",
    "    \n",
    "    return str(s).strip().lower()\n",
    "\n",
    "\n",
    "df = pd.read_csv(IN_PATH)\n",
    "\n",
    "# build normalized matching keys\n",
    "df[\"district_key\"] = df[DISTRICT_CSV].map(norm).map(lambda x: ALIASES.get(x, x))\n",
    "df[\"state_key\"]    = df[STATE_CSV].map(norm)\n",
    "\n",
    "# load .geojson\n",
    "with open(GEOJSON_PATH, \"r\", encoding=\"utf-8\") as f:\n",
    "    geo = json.load(f)\n",
    "\n",
    "# build a lookup from (district_key, state_key) -> score\n",
    "csv_lookup = { (r[\"district_key\"], r[\"state_key\"]): r[SCORE_COL] for _, r in df.dropna(subset=[SCORE_COL]).iterrows() }\n",
    "\n",
    "print(csv_lookup)"
   ]
  },
  {
   "cell_type": "markdown",
   "id": "6d3c3ed8",
   "metadata": {},
   "source": [
    "Match priority scores:"
   ]
  },
  {
   "cell_type": "code",
   "execution_count": 4,
   "id": "aafdd555",
   "metadata": {},
   "outputs": [],
   "source": [
    "for feat in geo[\"features\"]:\n",
    "    props = feat.get(\"properties\", {})\n",
    "    \n",
    "    d = norm(props.get(DISTRICT_GJ, \"\"))\n",
    "    s = norm(props.get(STATE_GJ, \"\"))\n",
    "\n",
    "    # match score\n",
    "    score = csv_lookup.get((d, s))\n",
    "    \n",
    "    props[\"glp1_score\"] = float(score) if score else None\n",
    "    feat[\"properties\"] = props"
   ]
  },
  {
   "cell_type": "code",
   "execution_count": 5,
   "id": "660811ac",
   "metadata": {},
   "outputs": [
    {
     "name": "stdout",
     "output_type": "stream",
     "text": [
      "Saved: /home/aarush/Projects/Novo_Nordisk/subphenotype/out/heatmap.html\n"
     ]
    }
   ],
   "source": [
    "from branca.colormap import linear\n",
    "import numpy as np  # for np.isnan\n",
    "\n",
    "values     = df[SCORE_COL].dropna()\n",
    "VMIN, VMAX = float(values.min()), float(values.max())\n",
    "\n",
    "# color map palette\n",
    "cmap         = linear.YlOrRd_09.scale(VMIN, VMAX)\n",
    "cmap.caption = \"GLP1-Focused Priority Score\"\n",
    "\n",
    "\n",
    "def style_fn(feature):\n",
    "    val = feature[\"properties\"].get(\"glp1_score\")\n",
    "    \n",
    "    if val is None or (isinstance(val, float) and np.isnan(val)):\n",
    "        return { \"fillOpacity\": 0.2, \"weight\": 0.2, \"fillColor\": \"#cccccc\", \"color\": \"#555555\" }\n",
    "    \n",
    "    return {\n",
    "        \"fillOpacity\": 0.8,\n",
    "        \"weight\":      0.3,\n",
    "        \"fillColor\":   cmap(float(val)),\n",
    "        \"color\":       \"#333333\",\n",
    "    }\n",
    "\n",
    "# build map\n",
    "m = folium.Map(location=[22.9734, 78.6569], zoom_start=5, tiles=\"cartodbpositron\")\n",
    "\n",
    "folium.GeoJson(\n",
    "    geo,\n",
    "    name=\"GLP1 Priority by District\",\n",
    "    style_function=style_fn,\n",
    "    tooltip=GeoJsonTooltip(\n",
    "        fields=[DISTRICT_GJ, STATE_GJ, \"glp1_score\"],\n",
    "        aliases=[\"District\", \"State/UT\", \"GLP1 Score\"],\n",
    "        sticky=True,\n",
    "        labels=True,\n",
    "    ),\n",
    ").add_to(m)\n",
    "\n",
    "# add the legend\n",
    "cmap.add_to(m)\n",
    "\n",
    "folium.LayerControl().add_to(m)\n",
    "\n",
    "m.save(OUT_HTML)\n",
    "\n",
    "print(f\"Saved: {OUT_HTML}\")"
   ]
  }
 ],
 "metadata": {
  "kernelspec": {
   "display_name": ".venv",
   "language": "python",
   "name": "python3"
  },
  "language_info": {
   "codemirror_mode": {
    "name": "ipython",
    "version": 3
   },
   "file_extension": ".py",
   "mimetype": "text/x-python",
   "name": "python",
   "nbconvert_exporter": "python",
   "pygments_lexer": "ipython3",
   "version": "3.13.7"
  }
 },
 "nbformat": 4,
 "nbformat_minor": 5
}
