{
 "cells": [
  {
   "cell_type": "markdown",
   "id": "7e5ad4df",
   "metadata": {},
   "source": [
    "# Geospatial Heatmap Data Visualization\n",
    "\n",
    "Configure paths and column names:"
   ]
  },
  {
   "cell_type": "code",
   "execution_count": null,
   "id": "2b2f7755",
   "metadata": {},
   "outputs": [],
   "source": [
    "import os\n",
    "\n",
    "# paths\n",
    "OUT_DIR      = os.path.abspath(os.path.join(\".\", \"out\"))\n",
    "IN_PATH      = os.path.join(OUT_DIR, \"subphenotypes.csv\")\n",
    "GEOJSON_PATH = os.path.abspath(os.path.join(\".\", \"data\", \"assets\", \"districts.geojson\"))\n",
    "\n",
    "# column names\n",
    "SCORE_COL    = \"GLP1_Focused_Priority_Score\"\n",
    "DISTRICT_CSV = \"District\"\n",
    "STATE_CSV    = \"State/UT\"\n",
    "\n",
    "# geojson field names\n",
    "DISTRICT_GJ  = \"district\"\n",
    "STATE_GJ     = \"st_nm\"\n",
    "\n",
    "# output path\n",
    "OUT_HTML     = os.path.join(OUT_DIR, \"heatmap.html\")"
   ]
  },
  {
   "cell_type": "markdown",
   "id": "04b32ec1",
   "metadata": {},
   "source": [
    "Construct district name alias mapping:"
   ]
  },
  {
   "cell_type": "code",
   "execution_count": 2,
   "id": "2cfb6d80",
   "metadata": {},
   "outputs": [],
   "source": [
    "# alias map to reconcile common spelling variants between CSV and GeoJSON\n",
    "ALIASES = {\n",
    "    \"aizawl\":  \"aizawal\",\n",
    "    \"belgaum\": \"belagavi\",\n",
    "    \"aravali\": \"aravalli\"\n",
    "}"
   ]
  },
  {
   "cell_type": "markdown",
   "id": "0b1492a2",
   "metadata": {},
   "source": [
    "Construct CSV geo-identifier $\\to$ priority score lookup:"
   ]
  },
  {
   "cell_type": "code",
   "execution_count": null,
   "id": "454da5b8",
   "metadata": {},
   "outputs": [],
   "source": [
    "import pandas as pd\n",
    "\n",
    "\n",
    "def norm(s:str) -> str:\n",
    "    if s is None: return \"\"\n",
    "    \n",
    "    return str(s).strip().lower()\n",
    "\n",
    "\n",
    "df = pd.read_csv(IN_PATH)\n",
    "\n",
    "# build normalized matching keys\n",
    "df[\"district_key\"] = df[DISTRICT_CSV].map(norm).map(lambda x: ALIASES.get(x, x))\n",
    "df[\"state_key\"]    = df[STATE_CSV].map(norm)\n",
    "\n",
    "# build a lookup from (district_key, state_key) -> score\n",
    "csv_lookup = { (r[\"district_key\"], r[\"state_key\"]): r[SCORE_COL] for _, r in df.dropna(subset=[SCORE_COL]).iterrows() }"
   ]
  },
  {
   "cell_type": "markdown",
   "id": "6d3c3ed8",
   "metadata": {},
   "source": [
    "Match priority scores from CSV, and add to GeoJSON features:"
   ]
  },
  {
   "cell_type": "code",
   "execution_count": null,
   "id": "aafdd555",
   "metadata": {},
   "outputs": [],
   "source": [
    "import json\n",
    "\n",
    "# load .geojson\n",
    "with open(GEOJSON_PATH, \"r\", encoding=\"utf-8\") as f:\n",
    "    geo = json.load(f)\n",
    "\n",
    "for feat in geo[\"features\"]:\n",
    "    props = feat.get(\"properties\", {})\n",
    "    \n",
    "    d = norm(props.get(DISTRICT_GJ, \"\"))\n",
    "    s = norm(props.get(STATE_GJ, \"\"))\n",
    "\n",
    "    # match score\n",
    "    score = csv_lookup.get((d, s))\n",
    "    \n",
    "    props[\"glp1_score\"] = float(score) if score else None\n",
    "    feat[\"properties\"] = props"
   ]
  },
  {
   "cell_type": "markdown",
   "id": "2966b7f4",
   "metadata": {},
   "source": [
    "Draw and export heatmap:"
   ]
  },
  {
   "cell_type": "code",
   "execution_count": null,
   "id": "660811ac",
   "metadata": {},
   "outputs": [
    {
     "name": "stdout",
     "output_type": "stream",
     "text": [
      "Saved: /home/aarush/Projects/Novo_Nordisk/subphenotype/out/heatmap.html\n"
     ]
    }
   ],
   "source": [
    "import folium\n",
    "from folium.features import GeoJsonTooltip\n",
    "from branca.colormap import linear\n",
    "import numpy as np\n",
    "\n",
    "values     = df[SCORE_COL].dropna()\n",
    "VMIN, VMAX = float(values.min()), float(values.max())\n",
    "\n",
    "# color map palette\n",
    "cmap         = linear.YlOrRd_09.scale(VMIN, VMAX)\n",
    "cmap.caption = \"GLP1-Focused Priority Score\"\n",
    "\n",
    "\n",
    "def style_fn(feature):\n",
    "    val = feature[\"properties\"].get(\"glp1_score\")\n",
    "    \n",
    "    if val is None or (isinstance(val, float) and np.isnan(val)):\n",
    "        return { \"fillOpacity\": 0.2, \"weight\": 0.2, \"fillColor\": \"#cccccc\", \"color\": \"#555555\" }\n",
    "    \n",
    "    return {\n",
    "        \"fillOpacity\": 0.8,\n",
    "        \"weight\":      0.3,\n",
    "        \"fillColor\":   cmap(float(val)),\n",
    "        \"color\":       \"#333333\",\n",
    "    }\n",
    "\n",
    "\n",
    "# build map\n",
    "m = folium.Map(location=[22.9734, 78.6569], zoom_start=5, tiles=\"cartodbpositron\")\n",
    "\n",
    "folium.GeoJson(\n",
    "    geo,\n",
    "    name=\"GLP1 Priority by District\",\n",
    "    style_function=style_fn,\n",
    "    tooltip=GeoJsonTooltip(\n",
    "        fields=[DISTRICT_GJ, STATE_GJ, \"glp1_score\"],\n",
    "        aliases=[\"District\", \"State/UT\", \"GLP1 Score\"],\n",
    "        sticky=True,\n",
    "        labels=True,\n",
    "    ),\n",
    ").add_to(m)\n",
    "\n",
    "# add the legend\n",
    "cmap.add_to(m)\n",
    "\n",
    "folium.LayerControl().add_to(m)\n",
    "\n",
    "m.save(OUT_HTML)\n",
    "\n",
    "print(f\"Saved: {OUT_HTML}\")"
   ]
  }
 ],
 "metadata": {
  "kernelspec": {
   "display_name": ".venv",
   "language": "python",
   "name": "python3"
  },
  "language_info": {
   "codemirror_mode": {
    "name": "ipython",
    "version": 3
   },
   "file_extension": ".py",
   "mimetype": "text/x-python",
   "name": "python",
   "nbconvert_exporter": "python",
   "pygments_lexer": "ipython3",
   "version": "3.13.7"
  }
 },
 "nbformat": 4,
 "nbformat_minor": 5
}
